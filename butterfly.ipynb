{
 "cells": [
  {
   "cell_type": "code",
   "execution_count": 151,
   "metadata": {
    "collapsed": true
   },
   "outputs": [],
   "source": [
    "import pandas as pd"
   ]
  },
  {
   "cell_type": "code",
   "execution_count": 152,
   "metadata": {
    "collapsed": true
   },
   "outputs": [],
   "source": [
    "data = pd.read_csv('beta_1_icici.csv')\n",
    "data = data.rename(columns=lambda x: x.strip())  #Takes care of white-spaces\n",
    "data['DATE']=pd.to_datetime(data['DATE'])"
   ]
  },
  {
   "cell_type": "code",
   "execution_count": 153,
   "metadata": {
    "collapsed": true
   },
   "outputs": [],
   "source": [
    "data=data.sort_values(['DATE','STRIKE PRICE'],ascending=[True,True])"
   ]
  },
  {
   "cell_type": "code",
   "execution_count": 154,
   "metadata": {
    "collapsed": true
   },
   "outputs": [],
   "source": [
    "def window_calc(l):\n",
    "    length=len(l)\n",
    "    final=[None] * (length)\n",
    "\n",
    "    for i in range(length-1):\n",
    "        if(i==0):\n",
    "            continue\n",
    "        fin=-2*l[i]+l[i-1]+l[i+1]\n",
    "        final[i]=fin\n",
    "    return final\n",
    "    \n",
    "    "
   ]
  },
  {
   "cell_type": "code",
   "execution_count": 155,
   "metadata": {
    "collapsed": true
   },
   "outputs": [],
   "source": [
    "t=data.groupby('DATE')\n",
    "cols=['STRIKE PRICE','DATE','OPEN','HIGH','LOW','CLOSE']\n",
    "df_fin=pd.DataFrame(columns=cols)\n",
    "for date,group in t:\n",
    "    #print ('Calculating for date:'+ str(date))\n",
    "    opn=window_calc(list(group['OPEN']))\n",
    "    close=window_calc(list(group['CLOSE']))\n",
    "    high=window_calc(list(group['HIGH']))\n",
    "    low=window_calc(list(group['LOW']))\n",
    "    SP=list(group['STRIKE PRICE'])\n",
    "    final={'STRIKE PRICE':SP,'DATE':[date]*(len(opn)),'OPEN':opn,'HIGH':high,'LOW':low,'CLOSE':close}\n",
    "    #print(len(SP),len([date]*(len(opn))),len(opn),len(high),len(low),len(close),)\n",
    "    df=pd.DataFrame.from_dict(final)\n",
    "    df_fin=pd.concat([df_fin,df])\n",
    "    "
   ]
  },
  {
   "cell_type": "code",
   "execution_count": 156,
   "metadata": {
    "collapsed": true
   },
   "outputs": [],
   "source": [
    "df_fin=df_fin.round({'OPEN': 2, 'HIGH': 2,'LOW':2,'CLOSE':2})"
   ]
  },
  {
   "cell_type": "code",
   "execution_count": 157,
   "metadata": {
    "collapsed": true
   },
   "outputs": [],
   "source": [
    "final_df=pd.DataFrame(columns=['STRIKE PRICE','DATE','OPEN_SB','HIGH_SB','LOW_SB','CLOSE_SB','OPEN_LB','HIGH_LB','LOW_LB','CLOSE_LB'])"
   ]
  },
  {
   "cell_type": "code",
   "execution_count": 158,
   "metadata": {
    "collapsed": true
   },
   "outputs": [],
   "source": [
    "final_df[['STRIKE PRICE','DATE','OPEN_SB','HIGH_SB','LOW_SB','CLOSE_SB']]=df_fin[['STRIKE PRICE','DATE','OPEN','HIGH','LOW','CLOSE']]"
   ]
  },
  {
   "cell_type": "code",
   "execution_count": 159,
   "metadata": {
    "collapsed": true
   },
   "outputs": [],
   "source": [
    "#df_fin.to_csv('short_butterfly.csv',columns=['STRIKE PRICE','DATE','OPEN','HIGH','LOW','CLOSE'])"
   ]
  },
  {
   "cell_type": "code",
   "execution_count": 160,
   "metadata": {
    "collapsed": true
   },
   "outputs": [],
   "source": [
    "short_bf_avg=df_fin.groupby('DATE').mean()"
   ]
  },
  {
   "cell_type": "code",
   "execution_count": 161,
   "metadata": {
    "collapsed": true
   },
   "outputs": [],
   "source": [
    "short_bf_avg['SB_AVG']=(short_bf_avg['OPEN'] +short_bf_avg['HIGH'] + short_bf_avg['LOW'] + short_bf_avg['CLOSE'] )/4"
   ]
  },
  {
   "cell_type": "code",
   "execution_count": 162,
   "metadata": {},
   "outputs": [],
   "source": [
    "short_bf_avg=short_bf_avg.round({'SB_AVG':2})\n",
    "short_bf_avg=short_bf_avg.drop(['CLOSE','HIGH','LOW','OPEN'],axis=1)\n"
   ]
  },
  {
   "cell_type": "code",
   "execution_count": 163,
   "metadata": {},
   "outputs": [],
   "source": [
    "final_df = final_df.join(short_bf_avg,on=['DATE'],how='inner')"
   ]
  },
  {
   "cell_type": "code",
   "execution_count": 164,
   "metadata": {
    "collapsed": true
   },
   "outputs": [],
   "source": [
    "long_bf=df_fin"
   ]
  },
  {
   "cell_type": "code",
   "execution_count": 165,
   "metadata": {
    "collapsed": true
   },
   "outputs": [],
   "source": [
    "long_bf['OPEN']=-df_fin['OPEN']\n",
    "long_bf['HIGH']=-df_fin['HIGH']\n",
    "long_bf['LOW']=-df_fin['LOW']\n",
    "long_bf['CLOSE']=-df_fin['CLOSE']\n",
    "\n"
   ]
  },
  {
   "cell_type": "code",
   "execution_count": 166,
   "metadata": {
    "collapsed": true
   },
   "outputs": [],
   "source": [
    "long_bf=long_bf.round({'OPEN': 2, 'HIGH': 2,'LOW':2,'CLOSE':2})"
   ]
  },
  {
   "cell_type": "code",
   "execution_count": 167,
   "metadata": {
    "collapsed": true
   },
   "outputs": [],
   "source": [
    "final_df[['OPEN_LB','HIGH_LB','LOW_LB','CLOSE_LB']]=long_bf[['OPEN','HIGH','LOW','CLOSE']]"
   ]
  },
  {
   "cell_type": "code",
   "execution_count": 168,
   "metadata": {
    "collapsed": true
   },
   "outputs": [],
   "source": [
    "#long_bf.to_csv('long_butterfly.csv',columns=['STRIKE PRICE','DATE','OPEN','HIGH','LOW','CLOSE'])"
   ]
  },
  {
   "cell_type": "code",
   "execution_count": 169,
   "metadata": {
    "collapsed": true
   },
   "outputs": [],
   "source": [
    "long_bf_avg=long_bf.groupby('DATE').mean()"
   ]
  },
  {
   "cell_type": "code",
   "execution_count": 170,
   "metadata": {
    "collapsed": true
   },
   "outputs": [],
   "source": [
    "long_bf_avg['LB_AVG']=(long_bf_avg['OPEN'] +long_bf_avg['HIGH'] + long_bf_avg['LOW'] + long_bf_avg['CLOSE'] )/4"
   ]
  },
  {
   "cell_type": "code",
   "execution_count": 171,
   "metadata": {
    "collapsed": true
   },
   "outputs": [],
   "source": [
    "long_bf_avg=long_bf_avg.round({'LB_AVG':2})\n",
    "long_bf_avg=long_bf_avg.drop(['CLOSE','HIGH','LOW','OPEN'],axis=1)"
   ]
  },
  {
   "cell_type": "code",
   "execution_count": 172,
   "metadata": {
    "collapsed": true
   },
   "outputs": [],
   "source": [
    "#long_bf_avg.to_csv('long_butterfly_avg.csv',columns=['AVG'])"
   ]
  },
  {
   "cell_type": "code",
   "execution_count": 173,
   "metadata": {},
   "outputs": [],
   "source": [
    "final_df = final_df.join(long_bf_avg,on=['DATE'],how='inner')\n"
   ]
  },
  {
   "cell_type": "code",
   "execution_count": 175,
   "metadata": {},
   "outputs": [],
   "source": [
    "final_df.to_csv('output/butterfly.csv' , index=False)"
   ]
  },
  {
   "cell_type": "code",
   "execution_count": null,
   "metadata": {
    "collapsed": true
   },
   "outputs": [],
   "source": []
  }
 ],
 "metadata": {
  "kernelspec": {
   "display_name": "Python 3",
   "language": "python",
   "name": "python3"
  },
  "language_info": {
   "codemirror_mode": {
    "name": "ipython",
    "version": 3
   },
   "file_extension": ".py",
   "mimetype": "text/x-python",
   "name": "python",
   "nbconvert_exporter": "python",
   "pygments_lexer": "ipython3",
   "version": "3.6.4"
  }
 },
 "nbformat": 4,
 "nbformat_minor": 2
}
